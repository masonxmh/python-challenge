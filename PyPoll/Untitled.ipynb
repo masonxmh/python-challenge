{
 "cells": [
  {
   "cell_type": "code",
   "execution_count": 2,
   "metadata": {},
   "outputs": [
    {
     "name": "stdout",
     "output_type": "stream",
     "text": [
      "3521001\n"
     ]
    }
   ],
   "source": [
    "import csv\n",
    "import os\n",
    "election_data_csv = os.path.join(\"Resources\",\"election_data.csv\")\n",
    "\n",
    "#open&read csv\n",
    "\n",
    "with open(election_data_csv, newline=\"\")as csvfile2:\n",
    "    csvreader2 = csv.reader(csvfile2, delimiter=\",\")\n",
    "    next(csvreader2)\n",
    "    \n",
    "    #create empty dictionary/list and set up counter\n",
    "    total_votes = 0\n",
    "    candidates = {}\n",
    "    voter_percentage = []\n",
    "    \n",
    "    for row in csvreader2:\n",
    "        total_votes = total_votes + 1\n",
    "        \n",
    "        if row[2] not in candidates.keys():\n",
    "            candidates[row[2]]=0\n",
    "            \n",
    "        candidates[row[2]]=candidates[row[2]]+1  #count total votes for each candidate\n",
    "        \n",
    "    print(total_votes)  #total votes casted\n",
    "\n",
    "#Write results in txt file\n",
    "# with open(\"/Users/peirangxu/Desktop/Python-challenge/PyPoll/Election_Results_Summary.txt\",\"w\") as text:\n",
    "#     text.write(\"Election Results \\n\")\n",
    "#     text.write(\"--------------------------\\n\")\n",
    "#     text.write(\"Total Votes:\" + str(total_votes) + \"\\n\")\n",
    "#     text.write(\"---------------------------\\n\")\n",
    "    \n",
    "#     winning_count = 0  #Initial value for winning_count\n",
    "#     for i,j in candidates.items():\n",
    "#         if j > winning_count:\n",
    "#             winning_count = j\n",
    "#             winner_candidate = i #winner candidate corresponding to winning_count\n",
    "#             text.write(f'winner:{winner_candidate} {winning_count} votes \\n')\n",
    "#             text.write(\"------------------------\\n\")\n",
    "#         votes = float(j)\n",
    "#         votes_percentage = votes/total_votes * 100  #percentage of votes got for each candidate\n",
    "#         text.write(f'{i}:{round(votes_percentage, 3)} % ({votes}) \\n')"
   ]
  },
  {
   "cell_type": "code",
   "execution_count": 3,
   "metadata": {},
   "outputs": [
    {
     "name": "stdout",
     "output_type": "stream",
     "text": [
      "{'Khan': 2218230, 'Correy': 704199, 'Li': 492939, \"O'Tooley\": 105629}\n"
     ]
    }
   ],
   "source": [
    "print (candidates)"
   ]
  },
  {
   "cell_type": "code",
   "execution_count": null,
   "metadata": {},
   "outputs": [],
   "source": []
  },
  {
   "cell_type": "code",
   "execution_count": null,
   "metadata": {},
   "outputs": [],
   "source": []
  },
  {
   "cell_type": "code",
   "execution_count": null,
   "metadata": {},
   "outputs": [],
   "source": []
  },
  {
   "cell_type": "code",
   "execution_count": null,
   "metadata": {},
   "outputs": [],
   "source": []
  },
  {
   "cell_type": "code",
   "execution_count": null,
   "metadata": {},
   "outputs": [],
   "source": []
  },
  {
   "cell_type": "code",
   "execution_count": null,
   "metadata": {},
   "outputs": [],
   "source": []
  }
 ],
 "metadata": {
  "kernelspec": {
   "display_name": "Python 3",
   "language": "python",
   "name": "python3"
  },
  "language_info": {
   "codemirror_mode": {
    "name": "ipython",
    "version": 3
   },
   "file_extension": ".py",
   "mimetype": "text/x-python",
   "name": "python",
   "nbconvert_exporter": "python",
   "pygments_lexer": "ipython3",
   "version": "3.7.3"
  }
 },
 "nbformat": 4,
 "nbformat_minor": 4
}
