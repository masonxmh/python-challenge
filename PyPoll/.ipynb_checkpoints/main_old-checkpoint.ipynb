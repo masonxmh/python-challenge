{
 "cells": [
  {
   "cell_type": "code",
   "execution_count": 33,
   "metadata": {},
   "outputs": [],
   "source": [
    "### PyPoll"
   ]
  },
  {
   "cell_type": "code",
   "execution_count": 31,
   "metadata": {},
   "outputs": [
    {
     "name": "stdout",
     "output_type": "stream",
     "text": [
      "Election Results\n",
      "--------------------------\n",
      "Total Votes: 3521001\n",
      "--------------------------\n",
      "Khan: 63.000% (2218231)\n",
      "Correy: 20.000% (704200)\n",
      "Li: 14.000% (492940)\n",
      "O'Tooley: 3.000% (105630)\n",
      "--------------------------\n",
      "Winner: Khan\n",
      "('63.000%', 2218231)\n"
     ]
    }
   ],
   "source": [
    "import os\n",
    "import csv\n",
    "\n",
    "election_data_csv = os.path.join(\"Resources\",\"election_data.csv\")\n",
    "\n",
    "#open&read csv\n",
    "\n",
    "with open(election_data_csv, newline=\"\") as csvfile:\n",
    "    csv_reader=csv.reader(csvfile, delimiter=',')\n",
    "    #read the header row first\n",
    "    next (csv_reader)\n",
    "    #read through each row of data after the header\n",
    "    \n",
    "    voter_list=[]\n",
    "    khan_vote=0\n",
    "    khan_percent=float()\n",
    "    correy_vote=0\n",
    "    correy_percent=float()\n",
    "    li_vote=0\n",
    "    li_percent=float()\n",
    "    O_vote=0\n",
    "    O_percent=float()\n",
    "    \n",
    "    vote_list=[]\n",
    "    winner=str()\n",
    "    \n",
    "    for row in csv_reader:\n",
    "        voter_list.append(row[0])\n",
    "        total_votes=len(voter_list)\n",
    "        \n",
    "        \n",
    "        if row[2]==\"Khan\":\n",
    "            khan_vote=khan_vote+1\n",
    "            khan_percent=\"{:.3%}\".format(khan_vote/total_votes)\n",
    "        elif row[2]==\"Correy\":\n",
    "            correy_vote=correy_vote+1\n",
    "            correy_percent=\"{:.3%}\".format(correy_vote/total_votes)\n",
    "        elif row[2]==\"Li\":\n",
    "            li_vote=li_vote+1\n",
    "            li_percent=\"{:.3%}\".format(li_vote/total_votes)\n",
    "        elif row[2]==\"O'Tooley\":\n",
    "            O_vote=O_vote+1\n",
    "            O_percent=\"{:.3%}\".format(O_vote/total_votes)\n",
    "        \n",
    "        vote_info={\"Khan\": (khan_percent, khan_vote),\n",
    "                   \"Correy\": (correy_percent, correy_vote)    }\n",
    "        \n",
    "        candidate_list=[\"Khan\",\"Correy\",\"Li\",\"O'Tooley\"]\n",
    "        vote_list=[khan_vote, correy_vote, li_vote, O_vote]\n",
    "        winner=candidate_list[vote_list.index(max(vote_list))]\n",
    "\n",
    "        \n",
    "        \n",
    "        \n",
    "        #vote_result = {\"name\":\"Khan\",\"percent\": khan_percent, \"vote\":\"({})\".format(khan_vote)} \n",
    "#print(vote_result[\"name\"])\n",
    "\n",
    "# print to terminal\n",
    "print(\"Election Results\\n--------------------------\\n\" +\n",
    "    \"Total Votes: \"+ str(total_votes)+\n",
    "    \"\\n--------------------------\"+\n",
    "    \"\\nKhan: \" + str(khan_percent)+\" \"+str(\"({})\".format(khan_vote))+\n",
    "    \"\\nCorrey: \" + str(correy_percent)+\" \"+str(\"({})\".format(correy_vote))+\n",
    "    \"\\nLi: \" + str(li_percent)+\" \"+str(\"({})\".format(li_vote))+\n",
    "    \"\\nO'Tooley: \" + str(O_percent)+\" \"+str(\"({})\".format(O_vote))+\n",
    "    \"\\n--------------------------\"+\n",
    "    \"\\nWinner: \"+  winner)\n",
    "print(f'{vote_info[\"Khan\"]}')      \n",
    "# print to file          \n",
    "output_path=os.path.join(\"PyPollResult.txt\")\n",
    "with open(output_path, 'w', newline='') as txtfile:\n",
    "    txtfile.write(\"Election Results\\n--------------------------\\n\")\n",
    "    txtfile.write(\"Total Votes: \"+ str(total_votes))\n",
    "    txtfile.write(\"\\n--------------------------\")\n",
    "    txtfile.write(\"\\nKhan: \" + str(khan_percent)+\" \"+str(\"({})\".format(khan_vote)))\n",
    "    txtfile.write(\"\\nCorrey: \" + str(correy_percent)+\" \"+str(\"({})\".format(correy_vote)))\n",
    "    txtfile.write(\"\\nLi: \" + str(li_percent)+\" \"+str(\"({})\".format(li_vote)))\n",
    "    txtfile.write(\"\\nO'Tooley: \" + str(O_percent)+\" \"+str(\"({})\".format(O_vote)))\n",
    "    txtfile.write(\"\\n--------------------------\")\n",
    "    txtfile.write(\"\\nWinner: \"+  winner)\n"
   ]
  },
  {
   "cell_type": "code",
   "execution_count": null,
   "metadata": {},
   "outputs": [],
   "source": []
  },
  {
   "cell_type": "code",
   "execution_count": null,
   "metadata": {},
   "outputs": [],
   "source": []
  }
 ],
 "metadata": {
  "kernelspec": {
   "display_name": "Python 3",
   "language": "python",
   "name": "python3"
  },
  "language_info": {
   "codemirror_mode": {
    "name": "ipython",
    "version": 3
   },
   "file_extension": ".py",
   "mimetype": "text/x-python",
   "name": "python",
   "nbconvert_exporter": "python",
   "pygments_lexer": "ipython3",
   "version": "3.7.3"
  }
 },
 "nbformat": 4,
 "nbformat_minor": 4
}
